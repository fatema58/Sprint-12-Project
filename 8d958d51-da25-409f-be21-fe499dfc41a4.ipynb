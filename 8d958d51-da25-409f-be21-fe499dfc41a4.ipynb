{
 "cells": [
  {
   "cell_type": "markdown",
   "metadata": {},
   "source": [
    "Rusty Bargain used car sales service is developing an app to attract new customers. In that app, you can quickly find out the market value of your car. You have access to historical data: technical specifications, trim versions, and prices. You need to build the model to determine the value. \n",
    "\n",
    "Rusty Bargain is interested in:\n",
    "\n",
    "- the quality of the prediction;\n",
    "- the speed of the prediction;\n",
    "- the time required for training"
   ]
  },
  {
   "cell_type": "markdown",
   "metadata": {},
   "source": [
    "## Data preparation"
   ]
  },
  {
   "cell_type": "code",
   "execution_count": 1,
   "metadata": {},
   "outputs": [],
   "source": [
    "import pandas as pd\n",
    "import numpy as np\n",
    "import time\n",
    "from sklearn.model_selection import train_test_split\n",
    "from sklearn.metrics import mean_squared_error, r2_score\n",
    "from sklearn.preprocessing import StandardScaler, OneHotEncoder\n",
    "from sklearn.linear_model import LinearRegression\n",
    "from sklearn.ensemble import RandomForestRegressor\n",
    "from lightgbm import LGBMRegressor\n",
    "from sklearn.tree import DecisionTreeRegressor\n",
    "from catboost import CatBoostRegressor\n",
    "import xgboost as xgb\n",
    "import joblib\n",
    "import matplotlib.pyplot as plt\n",
    "import seaborn as sns\n",
    "from sklearn.compose import ColumnTransformer\n",
    "from sklearn.pipeline import Pipeline\n",
    "import lightgbm as lgb\n",
    "from sklearn.model_selection import RandomizedSearchCV\n",
    "from xgboost import XGBRegressor"
   ]
  },
  {
   "cell_type": "code",
   "execution_count": 2,
   "metadata": {},
   "outputs": [],
   "source": [
    "#Load the dataset\n",
    "data = pd.read_csv('/datasets/car_data.csv')"
   ]
  },
  {
   "cell_type": "code",
   "execution_count": 3,
   "metadata": {},
   "outputs": [
    {
     "data": {
      "text/plain": [
       "Index(['DateCrawled', 'Price', 'VehicleType', 'RegistrationYear', 'Gearbox',\n",
       "       'Power', 'Model', 'Mileage', 'RegistrationMonth', 'FuelType', 'Brand',\n",
       "       'NotRepaired', 'DateCreated', 'NumberOfPictures', 'PostalCode',\n",
       "       'LastSeen'],\n",
       "      dtype='object')"
      ]
     },
     "execution_count": 3,
     "metadata": {},
     "output_type": "execute_result"
    }
   ],
   "source": [
    "data.columns"
   ]
  },
  {
   "cell_type": "code",
   "execution_count": 4,
   "metadata": {},
   "outputs": [
    {
     "name": "stdout",
     "output_type": "stream",
     "text": [
      "        DateCrawled  Price VehicleType  RegistrationYear Gearbox  Power  \\\n",
      "0  24/03/2016 11:52    480         NaN              1993  manual      0   \n",
      "1  24/03/2016 10:58  18300       coupe              2011  manual    190   \n",
      "2  14/03/2016 12:52   9800         suv              2004    auto    163   \n",
      "3  17/03/2016 16:54   1500       small              2001  manual     75   \n",
      "4  31/03/2016 17:25   3600       small              2008  manual     69   \n",
      "\n",
      "   Model  Mileage  RegistrationMonth  FuelType       Brand NotRepaired  \\\n",
      "0   golf   150000                  0    petrol  volkswagen         NaN   \n",
      "1    NaN   125000                  5  gasoline        audi         yes   \n",
      "2  grand   125000                  8  gasoline        jeep         NaN   \n",
      "3   golf   150000                  6    petrol  volkswagen          no   \n",
      "4  fabia    90000                  7  gasoline       skoda          no   \n",
      "\n",
      "        DateCreated  NumberOfPictures  PostalCode          LastSeen  \n",
      "0  24/03/2016 00:00                 0       70435  07/04/2016 03:16  \n",
      "1  24/03/2016 00:00                 0       66954  07/04/2016 01:46  \n",
      "2  14/03/2016 00:00                 0       90480  05/04/2016 12:47  \n",
      "3  17/03/2016 00:00                 0       91074  17/03/2016 17:40  \n",
      "4  31/03/2016 00:00                 0       60437  06/04/2016 10:17  \n"
     ]
    }
   ],
   "source": [
    "# Data Exploration\n",
    "print(data.head())"
   ]
  },
  {
   "cell_type": "code",
   "execution_count": 5,
   "metadata": {},
   "outputs": [
    {
     "name": "stdout",
     "output_type": "stream",
     "text": [
      "<class 'pandas.core.frame.DataFrame'>\n",
      "RangeIndex: 354369 entries, 0 to 354368\n",
      "Data columns (total 16 columns):\n",
      " #   Column             Non-Null Count   Dtype \n",
      "---  ------             --------------   ----- \n",
      " 0   DateCrawled        354369 non-null  object\n",
      " 1   Price              354369 non-null  int64 \n",
      " 2   VehicleType        316879 non-null  object\n",
      " 3   RegistrationYear   354369 non-null  int64 \n",
      " 4   Gearbox            334536 non-null  object\n",
      " 5   Power              354369 non-null  int64 \n",
      " 6   Model              334664 non-null  object\n",
      " 7   Mileage            354369 non-null  int64 \n",
      " 8   RegistrationMonth  354369 non-null  int64 \n",
      " 9   FuelType           321474 non-null  object\n",
      " 10  Brand              354369 non-null  object\n",
      " 11  NotRepaired        283215 non-null  object\n",
      " 12  DateCreated        354369 non-null  object\n",
      " 13  NumberOfPictures   354369 non-null  int64 \n",
      " 14  PostalCode         354369 non-null  int64 \n",
      " 15  LastSeen           354369 non-null  object\n",
      "dtypes: int64(7), object(9)\n",
      "memory usage: 43.3+ MB\n",
      "None\n"
     ]
    }
   ],
   "source": [
    "print(data.info())"
   ]
  },
  {
   "cell_type": "code",
   "execution_count": 6,
   "metadata": {
    "scrolled": true
   },
   "outputs": [
    {
     "name": "stdout",
     "output_type": "stream",
     "text": [
      "               Price  RegistrationYear          Power        Mileage  \\\n",
      "count  354369.000000     354369.000000  354369.000000  354369.000000   \n",
      "mean     4416.656776       2004.234448     110.094337  128211.172535   \n",
      "std      4514.158514         90.227958     189.850405   37905.341530   \n",
      "min         0.000000       1000.000000       0.000000    5000.000000   \n",
      "25%      1050.000000       1999.000000      69.000000  125000.000000   \n",
      "50%      2700.000000       2003.000000     105.000000  150000.000000   \n",
      "75%      6400.000000       2008.000000     143.000000  150000.000000   \n",
      "max     20000.000000       9999.000000   20000.000000  150000.000000   \n",
      "\n",
      "       RegistrationMonth  NumberOfPictures     PostalCode  \n",
      "count      354369.000000          354369.0  354369.000000  \n",
      "mean            5.714645               0.0   50508.689087  \n",
      "std             3.726421               0.0   25783.096248  \n",
      "min             0.000000               0.0    1067.000000  \n",
      "25%             3.000000               0.0   30165.000000  \n",
      "50%             6.000000               0.0   49413.000000  \n",
      "75%             9.000000               0.0   71083.000000  \n",
      "max            12.000000               0.0   99998.000000  \n"
     ]
    }
   ],
   "source": [
    "print(data.describe())"
   ]
  },
  {
   "cell_type": "code",
   "execution_count": 7,
   "metadata": {
    "scrolled": true
   },
   "outputs": [
    {
     "name": "stdout",
     "output_type": "stream",
     "text": [
      "262\n"
     ]
    }
   ],
   "source": [
    "# Check for duplicates\n",
    "print(data.duplicated().sum())"
   ]
  },
  {
   "cell_type": "code",
   "execution_count": 8,
   "metadata": {},
   "outputs": [
    {
     "name": "stdout",
     "output_type": "stream",
     "text": [
      "0\n"
     ]
    }
   ],
   "source": [
    "# Remove duplicate rows\n",
    "data.drop_duplicates(inplace=True)\n",
    "\n",
    "# Check again for duplicates\n",
    "print(data.duplicated().sum())"
   ]
  },
  {
   "cell_type": "code",
   "execution_count": 9,
   "metadata": {
    "scrolled": true
   },
   "outputs": [
    {
     "name": "stdout",
     "output_type": "stream",
     "text": [
      "DateCrawled              0\n",
      "Price                    0\n",
      "VehicleType          37484\n",
      "RegistrationYear         0\n",
      "Gearbox              19830\n",
      "Power                    0\n",
      "Model                19701\n",
      "Mileage                  0\n",
      "RegistrationMonth        0\n",
      "FuelType             32889\n",
      "Brand                    0\n",
      "NotRepaired          71145\n",
      "DateCreated              0\n",
      "NumberOfPictures         0\n",
      "PostalCode               0\n",
      "LastSeen                 0\n",
      "dtype: int64\n"
     ]
    }
   ],
   "source": [
    "#Check for missing values\n",
    "print(data.isna().sum())"
   ]
  },
  {
   "cell_type": "code",
   "execution_count": 10,
   "metadata": {
    "scrolled": false
   },
   "outputs": [
    {
     "name": "stdout",
     "output_type": "stream",
     "text": [
      "DateCrawled          0\n",
      "Price                0\n",
      "VehicleType          0\n",
      "RegistrationYear     0\n",
      "Gearbox              0\n",
      "Power                0\n",
      "Model                0\n",
      "Mileage              0\n",
      "RegistrationMonth    0\n",
      "FuelType             0\n",
      "Brand                0\n",
      "NotRepaired          0\n",
      "DateCreated          0\n",
      "NumberOfPictures     0\n",
      "PostalCode           0\n",
      "LastSeen             0\n",
      "dtype: int64\n"
     ]
    }
   ],
   "source": [
    "# Handle missing values\n",
    "data.dropna(inplace=True)\n",
    "\n",
    "#check again for missing values\n",
    "print(data.isna().sum())"
   ]
  },
  {
   "cell_type": "markdown",
   "metadata": {},
   "source": [
    "# Data Visualization"
   ]
  },
  {
   "cell_type": "code",
   "execution_count": 11,
   "metadata": {},
   "outputs": [
    {
     "data": {
      "image/png": "[encoded data removed]",
      "text/plain": [
       "<Figure size 1000x600 with 1 Axes>"
      ]
     },
     "metadata": {},
     "output_type": "display_data"
    }
   ],
   "source": [
    "# Distribution of prices\n",
    "plt.figure(figsize=(10, 6))\n",
    "sns.histplot(data['Price'], bins=50, kde=True)\n",
    "plt.title('Distribution of Prices')\n",
    "plt.xlabel('Price')\n",
    "plt.ylabel('Frequency')\n",
    "plt.show()"
   ]
  },
  {
   "cell_type": "markdown",
   "metadata": {},
   "source": [
    "This histogram displays the distribution of car prices in the dataset.\n",
    "Interpretation:\n",
    "The majority of car prices are clustered around the lower end of the price range, with a steep drop-off as the price increases.\n",
    "There are many cars priced below 5,000, and the frequency significantly decreases for higher prices.\n",
    "The distribution is right-skewed, meaning there are fewer cars at the higher price ranges.\n"
   ]
  },
  {
   "cell_type": "code",
   "execution_count": 12,
   "metadata": {},
   "outputs": [
    {
     "data": {
      "image/png": "[encoded data removed]",
      "text/plain": [
       "<Figure size 1000x600 with 1 Axes>"
      ]
     },
     "metadata": {},
     "output_type": "display_data"
    }
   ],
   "source": [
    "# Vehicle type counts\n",
    "plt.figure(figsize=(10, 6))\n",
    "sns.countplot(data=data, x='VehicleType', order=data['VehicleType'].value_counts().index)\n",
    "plt.title('Vehicle Type Distribution')\n",
    "plt.xlabel('Vehicle Type')\n",
    "plt.ylabel('Count')\n",
    "plt.xticks(rotation=45)\n",
    "plt.show()"
   ]
  },
  {
   "cell_type": "markdown",
   "metadata": {},
   "source": [
    "This bar chart shows the count of different vehicle types in the dataset.\n",
    "Interpretation:\n",
    "Sedans are the most common vehicle type, followed by small cars and wagons.\n",
    "SUVs, convertibles, and coupes are less common.\n",
    "The \"other\" category has the fewest entries, indicating rare or less common vehicle types.\n"
   ]
  },
  {
   "cell_type": "code",
   "execution_count": 13,
   "metadata": {},
   "outputs": [
    {
     "data": {
      "image/png": "[encoded data removed]",
      "text/plain": [
       "<Figure size 1200x800 with 1 Axes>"
      ]
     },
     "metadata": {},
     "output_type": "display_data"
    }
   ],
   "source": [
    "# Boxplot of prices by vehicle type\n",
    "plt.figure(figsize=(12, 8))\n",
    "sns.boxplot(data=data, x='VehicleType', y='Price')\n",
    "plt.title('Boxplot of Prices by Vehicle Type')\n",
    "plt.xlabel('Vehicle Type')\n",
    "plt.ylabel('Price')\n",
    "plt.xticks(rotation=45)\n",
    "plt.show()"
   ]
  },
  {
   "cell_type": "markdown",
   "metadata": {},
   "source": [
    "This boxplot illustrates the distribution of car prices across different vehicle types.\n",
    "Interpretation:\n",
    "Each boxplot shows the median (central line), interquartile range (box), and potential outliers (points outside the whiskers).\n",
    "Convertibles and coupes generally have higher price medians and larger price ranges compared to other vehicle types.\n",
    "Small cars and buses have lower price medians.\n",
    "There is a significant spread in prices within each vehicle type, with noticeable outliers, especially for convertibles and SUVs."
   ]
  },
  {
   "cell_type": "markdown",
   "metadata": {},
   "source": [
    "## Model training"
   ]
  },
  {
   "cell_type": "markdown",
   "metadata": {},
   "source": [
    "#Step 1: Preprocess the Data"
   ]
  },
  {
   "cell_type": "code",
   "execution_count": 15,
   "metadata": {},
   "outputs": [],
   "source": [
    "# Selecting features and target\n",
    "X = data.drop(columns=['Price'])\n",
    "y = data['Price']"
   ]
  },
  {
   "cell_type": "code",
   "execution_count": 16,
   "metadata": {},
   "outputs": [],
   "source": [
    "# List of categorical columns\n",
    "categorical_cols = ['VehicleType', 'Gearbox', 'Model', 'FuelType', 'Brand', 'NotRepaired']"
   ]
  },
  {
   "cell_type": "code",
   "execution_count": 17,
   "metadata": {},
   "outputs": [],
   "source": [
    "# List of numerical columns\n",
    "numerical_cols = X.select_dtypes(include=['int64', 'float64']).columns"
   ]
  },
  {
   "cell_type": "code",
   "execution_count": 18,
   "metadata": {},
   "outputs": [],
   "source": [
    "# Preprocessing pipeline\n",
    "preprocessor = ColumnTransformer(\n",
    "    transformers=[\n",
    "        ('num', StandardScaler(), numerical_cols),\n",
    "        ('cat', OneHotEncoder(handle_unknown='ignore'), categorical_cols)\n",
    "    ])"
   ]
  },
  {
   "cell_type": "code",
   "execution_count": 19,
   "metadata": {},
   "outputs": [],
   "source": [
    "# Splitting the data into training and testing sets\n",
    "X_train, X_test, y_train, y_test = train_test_split(X, y, test_size=0.2, random_state=42)\n"
   ]
  },
  {
   "cell_type": "markdown",
   "metadata": {},
   "source": [
    "#Step 2: Train Different Models"
   ]
  },
  {
   "cell_type": "code",
   "execution_count": 20,
   "metadata": {},
   "outputs": [],
   "source": [
    "#Linear Regression\n",
    "# Pipeline for Linear Regression\n",
    "lr_pipeline = Pipeline(steps=[('preprocessor', preprocessor),\n",
    "                              ('regressor', LinearRegression())])\n",
    "\n",
    "# Train the model\n",
    "lr_pipeline.fit(X_train, y_train)\n",
    "\n",
    "# Predict\n",
    "y_pred_lr = lr_pipeline.predict(X_test)\n",
    "\n",
    "# Evaluate\n",
    "mse_lr = mean_squared_error(y_test, y_pred_lr)\n",
    "r2_lr = r2_score(y_test, y_pred_lr)"
   ]
  },
  {
   "cell_type": "code",
   "execution_count": 21,
   "metadata": {},
   "outputs": [],
   "source": [
    "#Decision Tree\n",
    "# Pipeline for Decision Tree\n",
    "dt_pipeline = Pipeline(steps=[('preprocessor', preprocessor),\n",
    "                              ('regressor', DecisionTreeRegressor(random_state=42))])\n",
    "\n",
    "# Train the model\n",
    "dt_pipeline.fit(X_train, y_train)\n",
    "\n",
    "# Predict\n",
    "y_pred_dt = dt_pipeline.predict(X_test)\n",
    "\n",
    "# Evaluate\n",
    "mse_dt = mean_squared_error(y_test, y_pred_dt)\n",
    "r2_dt = r2_score(y_test, y_pred_dt)"
   ]
  },
  {
   "cell_type": "code",
   "execution_count": 22,
   "metadata": {},
   "outputs": [],
   "source": [
    "# Pipeline for XGBoost\n",
    "xgb_pipeline = Pipeline(steps=[('preprocessor', preprocessor),\n",
    "                               ('regressor', xgb.XGBRegressor(random_state=42))])\n",
    "\n",
    "# Train the model\n",
    "xgb_pipeline.fit(X_train, y_train)\n",
    "\n",
    "# Predict\n",
    "y_pred_xgb = xgb_pipeline.predict(X_test)\n",
    "\n",
    "# Evaluate\n",
    "mse_xgb = mean_squared_error(y_test, y_pred_xgb)\n",
    "r2_xgb = r2_score(y_test, y_pred_xgb)"
   ]
  },
  {
   "cell_type": "code",
   "execution_count": 23,
   "metadata": {
    "scrolled": false
   },
   "outputs": [],
   "source": [
    "# CatBoost pipeline\n",
    "cat_pipeline = Pipeline(steps=[('preprocessor', preprocessor),\n",
    "                               ('regressor', CatBoostRegressor(random_state=42, silent=True))])\n",
    "\n",
    "# Train the model\n",
    "cat_pipeline.fit(X_train, y_train)\n",
    "\n",
    "# Predict\n",
    "y_pred_cat = cat_pipeline.predict(X_test)\n",
    "\n",
    "# Ensure the length of predictions matches the length of the test set\n",
    "assert len(y_pred_cat) == len(y_test), \"Mismatch in the number of predictions and actual values\"\n",
    "\n",
    "# Evaluate\n",
    "mse_cat = mean_squared_error(y_test, y_pred_cat)\n",
    "r2_cat = r2_score(y_test, y_pred_cat)"
   ]
  },
  {
   "cell_type": "code",
   "execution_count": 24,
   "metadata": {},
   "outputs": [
    {
     "name": "stdout",
     "output_type": "stream",
     "text": [
      "Linear Regression - MSE: 7400377.246750139, R2: 0.6681633655930709\n",
      "Decision Tree - MSE: 4427984.921476372, R2: 0.8014469310746801\n",
      "XGBoost - MSE: 2748685.4833081937, R2: 0.8767475617240016\n",
      "CatBoost - MSE: 2626618.1499747136, R2: 0.8822211222890659\n"
     ]
    }
   ],
   "source": [
    "print(f\"Linear Regression - MSE: {mse_lr}, R2: {r2_lr}\")\n",
    "print(f\"Decision Tree - MSE: {mse_dt}, R2: {r2_dt}\")\n",
    "print(f\"XGBoost - MSE: {mse_xgb}, R2: {r2_xgb}\")\n",
    "print(f\"CatBoost - MSE: {mse_cat}, R2: {r2_cat}\")"
   ]
  },
  {
   "cell_type": "markdown",
   "metadata": {},
   "source": [
    "## Model analysis"
   ]
  },
  {
   "cell_type": "markdown",
   "metadata": {},
   "source": [
    "Step 1: Compute RMSE on evaluated models"
   ]
  },
  {
   "cell_type": "code",
   "execution_count": 25,
   "metadata": {},
   "outputs": [
    {
     "name": "stdout",
     "output_type": "stream",
     "text": [
      "Linear Regression - RMSE: 2720.3634401951035\n",
      "Decision Tree - RMSE: 2104.27776718673\n",
      "XGBoost - RMSE: 1657.9160061077262\n",
      "CatBoost - RMSE: 1620.6844695913865\n"
     ]
    }
   ],
   "source": [
    "# Compute RMSE\n",
    "rmse_lr = np.sqrt(mse_lr)\n",
    "rmse_dt = np.sqrt(mse_dt)\n",
    "rmse_xgb = np.sqrt(mse_xgb)\n",
    "rmse_cat = np.sqrt(mse_cat)\n",
    "\n",
    "print(f\"Linear Regression - RMSE: {rmse_lr}\")\n",
    "print(f\"Decision Tree - RMSE: {rmse_dt}\")\n",
    "print(f\"XGBoost - RMSE: {rmse_xgb}\")\n",
    "print(f\"CatBoost - RMSE: {rmse_cat}\")"
   ]
  },
  {
   "cell_type": "markdown",
   "metadata": {},
   "source": [
    "Let's break down the performance of each model based on the Mean Squared Error (MSE) and R-squared (R2) values.\n",
    "\n",
    "1. Linear Regression\n",
    "MSE: 7,400,377.25\n",
    "R2: 0.6682\n",
    "Interpretation:\n",
    "\n",
    "MSE: This value indicates that the average squared difference between the actual and predicted prices is relatively high, suggesting that the model has substantial errors in its predictions.\n",
    "R2: The R-squared value indicates that approximately 66.82% of the variance in the car prices is explained by the linear regression model. While this is a decent percentage, it leaves a significant portion of the variance unexplained.\n",
    "2. Decision Tree\n",
    "MSE: 4,427,984.92\n",
    "R2: 0.8014\n",
    "Interpretation:\n",
    "\n",
    "MSE: The decision tree model has a lower MSE compared to the linear regression model, indicating better predictive performance.\n",
    "R2: The R-squared value shows that 80.14% of the variance in the car prices is explained by this model. This is a significant improvement over linear regression, indicating that the decision tree captures more complex relationships in the data.\n",
    "3. XGBoost\n",
    "MSE: 2,748,685.48\n",
    "R2: 0.8767\n",
    "Interpretation:\n",
    "\n",
    "MSE: XGBoost has a much lower MSE compared to both the linear regression and decision tree models, indicating more accurate predictions.\n",
    "R2: The R-squared value of 87.67% shows a further improvement, meaning that XGBoost explains a larger portion of the variance in car prices. This suggests that XGBoost is effectively capturing the underlying patterns in the data.\n",
    "4. CatBoost\n",
    "MSE: 2,626,618.15\n",
    "R2: 0.8822\n",
    "Interpretation:\n",
    "\n",
    "MSE: CatBoost has the lowest MSE among the models, indicating the best predictive accuracy.\n",
    "R2: The R-squared value of 88.22% is the highest, showing that CatBoost explains the most variance in car prices. This makes CatBoost the best-performing model in terms of both MSE and R-squared.\n",
    "Summary and Recommendations\n",
    "Linear Regression: While useful as a baseline model, its high MSE and relatively low R-squared indicate that it doesn't capture the complexity of the data well.\n",
    "Decision Tree: A significant improvement over linear regression, but still not as powerful as the ensemble methods.\n",
    "XGBoost: Provides substantial improvements in both MSE and R-squared, demonstrating the benefits of gradient boosting.\n",
    "CatBoost: The best performer in this comparison, with the lowest MSE and highest R-squared, indicating it is the most accurate and reliable model for predicting car prices in this dataset.\n",
    "Next Steps\n",
    "Further Tuning: While CatBoost and XGBoost have performed well, further hyperparameter tuning could potentially improve their performance even more.\n",
    "Model Interpretability: Investigate feature importance and other interpretability measures to understand which factors are most influential in predicting car prices.\n",
    "Cross-Validation: Ensure the robustness of these results by performing cross-validation to check for model stability across different subsets of the data."
   ]
  },
  {
   "cell_type": "markdown",
   "metadata": {},
   "source": [
    "Step 2: Hyperparameter Tuning"
   ]
  },
  {
   "cell_type": "markdown",
   "metadata": {},
   "source": [
    "LightGBM"
   ]
  },
  {
   "cell_type": "code",
   "execution_count": 26,
   "metadata": {
    "scrolled": true
   },
   "outputs": [
    {
     "name": "stdout",
     "output_type": "stream",
     "text": [
      "LightGBM Best Parameters: {'regressor__num_leaves': 50, 'regressor__n_estimators': 200, 'regressor__learning_rate': 0.1}\n",
      "LightGBM Best RMSE: 1630.1660932176349\n"
     ]
    }
   ],
   "source": [
    "# LightGBM pipeline\n",
    "lgb_pipeline = Pipeline(steps=[('preprocessor', preprocessor),\n",
    "                               ('regressor', lgb.LGBMRegressor(random_state=42))])\n",
    "\n",
    "# Parameters for tuning\n",
    "param_grid_lgb = {\n",
    "    'regressor__n_estimators': [100, 200],\n",
    "    'regressor__num_leaves': [31, 50],\n",
    "    'regressor__learning_rate': [0.01, 0.05, 0.1]\n",
    "}\n",
    "\n",
    "# Random Search\n",
    "lgb_random = RandomizedSearchCV(estimator=lgb_pipeline, param_distributions=param_grid_lgb, cv=3, n_jobs=-1, n_iter=10, random_state=42)\n",
    "lgb_random.fit(X_train, y_train)\n",
    "\n",
    "# Best parameters and RMSE\n",
    "best_lgb_model = lgb_random.best_estimator_\n",
    "y_pred_best_lgb = best_lgb_model.predict(X_test)\n",
    "rmse_best_lgb = np.sqrt(mean_squared_error(y_test, y_pred_best_lgb))\n",
    "\n",
    "print(f\"LightGBM Best Parameters: {lgb_random.best_params_}\")\n",
    "print(f\"LightGBM Best RMSE: {rmse_best_lgb}\")\n"
   ]
  },
  {
   "cell_type": "markdown",
   "metadata": {},
   "source": [
    "Best Parameters\n",
    "\n",
    "num_leaves (50): This parameter determines the maximum number of leaves per tree. It controls the complexity of the model. A higher value allows the model to capture more intricate patterns in the data, but it also increases the risk of overfitting. A value of 50 suggests a moderate level of complexity.\n",
    "n_estimators (200): This parameter specifies the number of boosting iterations, or trees, in the model. More trees generally lead to better performance, but also to increased training time. A value of 200 indicates that a substantial number of trees are used, ensuring the model has enough capacity to learn from the data.\n",
    "learning_rate (0.1): This parameter controls how much the model's predictions are adjusted with each boosting step. A learning rate of 0.1 is a standard choice that allows the model to learn gradually without making too large updates that might miss the optimal point.\n",
    "\n",
    "\n",
    "Best RMSE\n",
    "\n",
    "RMSE (1,630.17): RMSE measures the average error in the model's predictions. It represents the square root of the average squared differences between the predicted and actual values. An RMSE of 1,630.17 means that, on average, the model's predictions are off by approximately 1,630 units of the target variable (likely the car prices). This indicates how well the model is performing in terms of prediction accuracy."
   ]
  },
  {
   "cell_type": "markdown",
   "metadata": {},
   "source": [
    "XGBoost"
   ]
  },
  {
   "cell_type": "code",
   "execution_count": 27,
   "metadata": {},
   "outputs": [
    {
     "name": "stdout",
     "output_type": "stream",
     "text": [
      "XGBoost Best Parameters: {'regressor__n_estimators': 100, 'regressor__max_depth': 6, 'regressor__learning_rate': 0.05}\n",
      "XGBoost Best RMSE: 1794.203476530328\n"
     ]
    }
   ],
   "source": [
    "# XGBoost pipeline\n",
    "xgb_pipeline = Pipeline(steps=[('preprocessor', preprocessor),\n",
    "                               ('regressor', XGBRegressor(random_state=42))])\n",
    "# Parameters for tuning\n",
    "param_grid_xgb = {\n",
    "    'regressor__n_estimators': [50, 100],  # Reduced range\n",
    "    'regressor__max_depth': [3, 6],  # Reduced range\n",
    "    'regressor__learning_rate': [0.01, 0.05]  # Reduced range\n",
    "}\n",
    "\n",
    "# Random Search with fewer iterations and folds\n",
    "xgb_random = RandomizedSearchCV(estimator=xgb_pipeline, param_distributions=param_grid_xgb, cv=2, n_jobs=-1, n_iter=5, random_state=42)\n",
    "xgb_random.fit(X_train, y_train)\n",
    "\n",
    "# Best parameters and RMSE\n",
    "best_xgb_model = xgb_random.best_estimator_\n",
    "y_pred_best_xgb = best_xgb_model.predict(X_test)\n",
    "rmse_best_xgb = np.sqrt(mean_squared_error(y_test, y_pred_best_xgb))\n",
    "\n",
    "print(f\"XGBoost Best Parameters: {xgb_random.best_params_}\")\n",
    "print(f\"XGBoost Best RMSE: {rmse_best_xgb}\")"
   ]
  },
  {
   "cell_type": "markdown",
   "metadata": {},
   "source": [
    "Best Parameters\n",
    "\n",
    "n_estimators (100): This parameter specifies the number of boosting rounds or trees in the model. A value of 100 indicates a moderate number of trees, allowing the model to build a sufficiently complex ensemble without overfitting or excessively long training times.\n",
    "max_depth (6): This parameter controls the maximum depth of each individual tree in the model. A depth of 6 means that the trees can have up to 6 levels of splits. This allows the model to capture more complex patterns in the data while maintaining a balance between complexity and the risk of overfitting.\n",
    "learning_rate (0.05): This parameter controls the step size at each iteration while moving toward a minimum of the loss function. A learning rate of 0.05 is relatively small, ensuring that the model updates its predictions gradually, which helps in achieving better generalization.\n",
    "\n",
    "    \n",
    "Best RMSE\n",
    "\n",
    "RMSE (1,794.20): RMSE measures the average error in the model's predictions. It represents the square root of the average squared differences between the predicted and actual values. An RMSE of 1,794.20 means that, on average, the model's predictions are off by approximately 1,794 units of the target variable (likely the car prices). This indicates the model's prediction accuracy and shows that the XGBoost model performs well, though it has a slightly higher RMSE compared to the LightGBM model."
   ]
  },
  {
   "cell_type": "markdown",
   "metadata": {},
   "source": [
    "CatBoost"
   ]
  },
  {
   "cell_type": "code",
   "execution_count": 28,
   "metadata": {},
   "outputs": [
    {
     "name": "stdout",
     "output_type": "stream",
     "text": [
      "CatBoost Best Parameters: {'regressor__learning_rate': 0.1, 'regressor__iterations': 200, 'regressor__depth': 10}\n",
      "CatBoost Best RMSE: 1663.415167267263\n"
     ]
    }
   ],
   "source": [
    "# CatBoost pipeline\n",
    "cat_pipeline = Pipeline(steps=[('preprocessor', preprocessor),\n",
    "                               ('regressor', CatBoostRegressor(random_state=42, silent=True))])\n",
    "\n",
    "# Parameters for tuning\n",
    "param_grid_cat = {\n",
    "    'regressor__iterations': [100, 200],\n",
    "    'regressor__depth': [6, 10],\n",
    "    'regressor__learning_rate': [0.01, 0.05, 0.1]\n",
    "}\n",
    "\n",
    "# Random Search\n",
    "cat_random = RandomizedSearchCV(estimator=cat_pipeline, param_distributions=param_grid_cat, cv=3, n_jobs=-1, n_iter=10, random_state=42)\n",
    "cat_random.fit(X_train, y_train)\n",
    "\n",
    "# Best parameters and RMSE\n",
    "best_cat_model = cat_random.best_estimator_\n",
    "y_pred_best_cat = best_cat_model.predict(X_test)\n",
    "rmse_best_cat = np.sqrt(mean_squared_error(y_test, y_pred_best_cat))\n",
    "\n",
    "print(f\"CatBoost Best Parameters: {cat_random.best_params_}\")\n",
    "print(f\"CatBoost Best RMSE: {rmse_best_cat}\")\n"
   ]
  },
  {
   "cell_type": "markdown",
   "metadata": {},
   "source": [
    "Best Parameters:\n",
    "\n",
    "Learning Rate (0.1): Learning rate determines the step size at each iteration while moving toward a minimum of the loss function. A lower learning rate typically makes the model more robust by taking smaller steps, but it can also increase training time.\n",
    "Iterations (200): This refers to the number of trees to be built. More iterations can lead to a more accurate model but may also increase the risk of overfitting.\n",
    "Depth (10): The depth of a tree controls how many splits it can make before reaching a leaf node. A deeper tree can capture more complex relationships in the data but may also lead to overfitting.\n",
    "\n",
    "\n",
    "Root Mean Squared Error (RMSE):\n",
    "\n",
    "RMSE is a measure of the differences between values predicted by a model and the observed values.\n",
    "In this context, an RMSE of approximately 1663.415 indicates, on average, how much the predicted values differ from the actual target values. Lower values of RMSE indicate better performance, as they mean that the model's predictions are closer to the actual values.\n"
   ]
  },
  {
   "cell_type": "markdown",
   "metadata": {},
   "source": [
    "Step 3: Compare Models"
   ]
  },
  {
   "cell_type": "code",
   "execution_count": 29,
   "metadata": {},
   "outputs": [
    {
     "name": "stdout",
     "output_type": "stream",
     "text": [
      "Linear Regression Training Time: 12.116414308547974 seconds\n",
      "Decision Tree Training Time: 90.33238363265991 seconds\n",
      "XGBoost Training Time: 44.204580545425415 seconds\n",
      "LightGBM Training Time: 27.271312713623047 seconds\n",
      "CatBoost Training Time: 27.5534987449646 seconds\n"
     ]
    }
   ],
   "source": [
    "# Timing the models\n",
    "start_time = time.time()\n",
    "lr_pipeline.fit(X_train, y_train)\n",
    "lr_train_time = time.time() - start_time\n",
    "\n",
    "start_time = time.time()\n",
    "dt_pipeline.fit(X_train, y_train)\n",
    "dt_train_time = time.time() - start_time\n",
    "\n",
    "start_time = time.time()\n",
    "best_xgb_model.fit(X_train, y_train)\n",
    "best_xgb_train_time = time.time() - start_time\n",
    "\n",
    "start_time = time.time()\n",
    "best_lgb_model.fit(X_train, y_train)\n",
    "best_lgb_train_time = time.time() - start_time\n",
    "\n",
    "start_time = time.time()\n",
    "best_cat_model.fit(X_train, y_train)\n",
    "best_cat_train_time = time.time() - start_time\n",
    "\n",
    "# Print training times\n",
    "print(f\"Linear Regression Training Time: {lr_train_time} seconds\")\n",
    "print(f\"Decision Tree Training Time: {dt_train_time} seconds\")\n",
    "print(f\"XGBoost Training Time: {best_xgb_train_time} seconds\")\n",
    "print(f\"LightGBM Training Time: {best_lgb_train_time} seconds\")\n",
    "print(f\"CatBoost Training Time: {best_cat_train_time} seconds\")\n"
   ]
  },
  {
   "cell_type": "markdown",
   "metadata": {},
   "source": [
    "Here's a breakdown of the training times for each model:\n",
    "\n",
    "Linear Regression: 12.116 seconds. Linear regression is a simple and fast algorithm for modeling the relationship between a dependent variable and one or more independent variables.\n",
    "Decision Tree: 90.332 seconds\n",
    "\n",
    "Decision trees are versatile and can handle both regression and classification tasks. However, training time can increase significantly with larger datasets or deeper trees.\n",
    "XGBoost: 44.204 seconds\n",
    "\n",
    "XGBoost is an optimized gradient boosting library known for its efficiency and scalability. While it's faster than traditional gradient boosting implementations, training time can still be noticeable, especially with large datasets or complex models.\n",
    "LightGBM: 27.271 seconds\n",
    "\n",
    "LightGBM is another gradient boosting library designed for efficiency and speed. It's optimized for distributed and parallel computing, making it faster than many other gradient boosting implementations.\n",
    "CatBoost: 27.553 seconds\n",
    "\n",
    "CatBoost, like LightGBM, is a gradient boosting library known for its handling of categorical features and overall efficiency. It's designed to handle large datasets efficiently and often offers competitive training times.\n",
    "\n",
    "These training times provide insights into the computational efficiency of each algorithm and can help in selecting the appropriate model based on the specific requirements of the project, such as dataset size, desired accuracy, and computational resources available."
   ]
  },
  {
   "cell_type": "markdown",
   "metadata": {},
   "source": [
    "Summary of Results"
   ]
  },
  {
   "cell_type": "code",
   "execution_count": 30,
   "metadata": {},
   "outputs": [
    {
     "name": "stdout",
     "output_type": "stream",
     "text": [
      "Linear Regression - RMSE: 2720.3634401951035\n",
      "Decision Tree - RMSE: 2104.27776718673\n",
      "XGBoost - RMSE: 1794.203476530328\n",
      "LightGBM - RMSE: 1630.1660932176349\n",
      "CatBoost - RMSE: 1663.415167267263\n"
     ]
    }
   ],
   "source": [
    "print(f\"Linear Regression - RMSE: {rmse_lr}\")\n",
    "print(f\"Decision Tree - RMSE: {rmse_dt}\")\n",
    "print(f\"XGBoost - RMSE: {rmse_best_xgb}\")\n",
    "print(f\"LightGBM - RMSE: {rmse_best_lgb}\")\n",
    "print(f\"CatBoost - RMSE: {rmse_best_cat}\")"
   ]
  },
  {
   "cell_type": "markdown",
   "metadata": {},
   "source": [
    "These are the root mean squared error (RMSE) values for the different machine learning models:\n",
    "\n",
    "Linear Regression: RMSE = 2720.3634401951035\n",
    "\n",
    "Linear regression is a simple model that assumes a linear relationship between the input features and the target variable. It appears to have the highest RMSE among the models you've evaluated, indicating that it might not capture the underlying patterns in the data as effectively as the other, more complex models.\n",
    "Decision Tree: RMSE = 2104.27776718673\n",
    "\n",
    "Decision trees are non-linear models that recursively split the data based on feature values. While decision trees can capture complex relationships, they can also suffer from overfitting, which might be reflected in the RMSE.\n",
    "XGBoost: RMSE = 1794.203476530328\n",
    "\n",
    "XGBoost is a powerful gradient boosting algorithm known for its scalability and performance. It appears to have a lower RMSE compared to linear regression and decision trees, suggesting that it might be better at capturing the underlying patterns in the data.\n",
    "LightGBM: RMSE = 1630.1660932176349\n",
    "\n",
    "LightGBM is another gradient boosting algorithm that's optimized for efficiency and speed. It seems to have a lower RMSE than XGBoost, indicating that it might be even better at capturing the underlying patterns in the data.\n",
    "CatBoost: RMSE = 1663.415167267263\n",
    "\n",
    "CatBoost, like XGBoost and LightGBM, is a gradient boosting algorithm designed for efficiency and performance. It has a similar RMSE to LightGBM, suggesting that it performs comparably well on this dataset.\n",
    "\n",
    "In summary, lower RMSE values indicate better predictive performance, suggesting that LightGBM and CatBoost are the most effective models for this dataset, followed closely by XGBoost. These models have likely learned the underlying patterns in the data more accurately than linear regression or a single decision tree."
   ]
  },
  {
   "cell_type": "code",
   "execution_count": 31,
   "metadata": {},
   "outputs": [
    {
     "name": "stdout",
     "output_type": "stream",
     "text": [
      "Linear Regression Training Time: 12.116414308547974 seconds\n",
      "Decision Tree Training Time: 90.33238363265991 seconds\n",
      "XGBoost Training Time: 44.204580545425415 seconds\n",
      "LightGBM Training Time: 27.271312713623047 seconds\n",
      "CatBoost Training Time: 27.5534987449646 seconds\n"
     ]
    }
   ],
   "source": [
    "print(f\"Linear Regression Training Time: {lr_train_time} seconds\")\n",
    "print(f\"Decision Tree Training Time: {dt_train_time} seconds\")\n",
    "print(f\"XGBoost Training Time: {best_xgb_train_time} seconds\")\n",
    "print(f\"LightGBM Training Time: {best_lgb_train_time} seconds\")\n",
    "print(f\"CatBoost Training Time: {best_cat_train_time} seconds\")"
   ]
  },
  {
   "cell_type": "markdown",
   "metadata": {},
   "source": [
    "Comparing the training times and RMSE values of the different models, we can gain insights into both their computational efficiency and predictive performance. Here's a summary:\n",
    "\n",
    "Training Times:\n",
    "\n",
    "Linear Regression: 12.116 seconds\n",
    "Decision Tree: 90.332 seconds\n",
    "XGBoost: 44.204 seconds\n",
    "LightGBM: 27.271 seconds\n",
    "CatBoost: 27.553 seconds\n",
    "Among these models, Linear Regression has the fastest training time, while the Decision Tree has the slowest. XGBoost and CatBoost have comparable training times, slightly faster than LightGBM.\n",
    "\n",
    "RMSE Values:\n",
    "\n",
    "Linear Regression: 2720.3634401951035\n",
    "Decision Tree: 2104.27776718673\n",
    "XGBoost: 1794.203476530328\n",
    "LightGBM: 1630.1660932176349\n",
    "CatBoost: 1663.415167267263\n",
    "In terms of RMSE, LightGBM and CatBoost perform the best, followed closely by XGBoost. Linear Regression has the highest RMSE, indicating that it's the least effective model for this dataset.\n",
    "\n",
    "Analysis:\n",
    "\n",
    "Linear Regression offers the fastest training time but sacrifices predictive performance.\n",
    "Decision Tree has a high training time and RMSE, indicating that it's prone to overfitting.\n",
    "XGBoost, LightGBM, and CatBoost all offer good predictive performance with relatively low RMSE values. Among these, LightGBM and CatBoost seem to have a slight edge in terms of both RMSE and training time.\n",
    "\n",
    "In summary, for this specific dataset, LightGBM and CatBoost appear to be the best choices, offering a good balance between training time and predictive performance. XGBoost also performs well and might be a suitable alternative, depending on specific requirements and constraints.\n",
    "\n",
    "\n",
    "\n",
    "\n",
    "\n",
    "\n",
    "\n",
    "\n"
   ]
  },
  {
   "cell_type": "markdown",
   "metadata": {},
   "source": [
    "# Summary"
   ]
  },
  {
   "cell_type": "markdown",
   "metadata": {},
   "source": [
    "The project aimed to develop a predictive model for a regression task, utilizing various machine learning algorithms. The dataset likely contains features and target variables where the goal is to predict numerical values.\n",
    "\n",
    "The project involved training and evaluating five different models: Linear Regression, Decision Tree, XGBoost, LightGBM, and CatBoost. Each model was assessed based on two key metrics: training time and root mean squared error (RMSE).\n",
    "\n",
    "Among the models, Linear Regression offered the fastest training time but yielded the highest RMSE, indicating limited predictive performance. Decision Tree, while versatile, exhibited a slower training time and relatively high RMSE, suggesting potential overfitting.\n",
    "\n",
    "In contrast, XGBoost, LightGBM, and CatBoost demonstrated competitive predictive performance with lower RMSE values. These gradient boosting algorithms provided a good balance between training time and accuracy. Among them, LightGBM and CatBoost stood out slightly, showcasing lower RMSE values and comparable training times.\n",
    "\n",
    "Based on the results obtained from training and evaluating the models, LightGBM and CatBoost emerge as the top performers. Both models demonstrate competitive predictive performance with relatively low root mean squared error (RMSE) values and comparable training times.\n",
    "\n",
    "Choosing between LightGBM and CatBoost ultimately depends on various factors such as:\n",
    "\n",
    "Specific Requirements: Consider the specific needs of your project or application. Are there any constraints on training time or model complexity?\n",
    "\n",
    "Ease of Use: Evaluate the ease of integration and deployment of each model within your existing infrastructure or framework.\n",
    "\n",
    "Interpretability: Consider the interpretability of the model's predictions. Linear models like LightGBM may offer more straightforward interpretations compared to tree-based models like CatBoost.\n",
    "\n",
    "Tuning and Optimization: Assess the ease and effectiveness of tuning hyperparameters for each model to further improve performance.\n",
    "\n",
    "Scalability: Consider the scalability of each model, especially if you anticipate working with large datasets or require distributed computing capabilities.\n",
    "\n",
    "Given their similar performance, you may want to conduct further experimentation or validation to determine which model best aligns with your project's objectives and constraints. Additionally, ensemble methods or model stacking techniques could be explored to combine the strengths of both LightGBM and CatBoost for potentially even better predictive performance.\n",
    "\n",
    "Overall, the project highlights the importance of selecting appropriate machine learning algorithms tailored to the dataset's characteristics. In this case, LightGBM and CatBoost emerged as the top performers, offering efficient training times and superior predictive accuracy. Further refinements and optimizations could be explored to enhance model performance for real-world applications."
   ]
  },
  {
   "cell_type": "markdown",
   "metadata": {},
   "source": [
    "# Checklist"
   ]
  },
  {
   "cell_type": "markdown",
   "metadata": {},
   "source": [
    "Type 'x' to check. Then press Shift+Enter."
   ]
  },
  {
   "cell_type": "markdown",
   "metadata": {},
   "source": [
    "- [x]  Jupyter Notebook is open\n",
    "- [ ]  Code is error free\n",
    "- [ ]  The cells with the code have been arranged in order of execution\n",
    "- [ ]  The data has been downloaded and prepared\n",
    "- [ ]  The models have been trained\n",
    "- [ ]  The analysis of speed and quality of the models has been performed"
   ]
  },
  {
   "cell_type": "code",
   "execution_count": null,
   "metadata": {},
   "outputs": [],
   "source": []
  },
  {
   "cell_type": "code",
   "execution_count": null,
   "metadata": {},
   "outputs": [],
   "source": []
  }
 ],
 "metadata": {
  "ExecuteTimeLog": [
   {
    "duration": 1226,
    "start_time": "2024-05-29T02:17:46.842Z"
   },
   {
    "duration": 1135,
    "start_time": "2024-05-29T02:17:48.071Z"
   },
   {
    "duration": 124,
    "start_time": "2024-05-29T02:18:04.766Z"
   },
   {
    "duration": 143,
    "start_time": "2024-05-29T02:18:14.063Z"
   },
   {
    "duration": 781,
    "start_time": "2024-05-29T02:19:18.783Z"
   },
   {
    "duration": 14,
    "start_time": "2024-05-29T02:19:32.688Z"
   },
   {
    "duration": 144,
    "start_time": "2024-05-29T02:19:43.648Z"
   },
   {
    "duration": 104,
    "start_time": "2024-05-29T02:19:55.015Z"
   },
   {
    "duration": 308,
    "start_time": "2024-05-29T02:20:15.999Z"
   },
   {
    "duration": 1197,
    "start_time": "2024-05-29T02:20:22.084Z"
   },
   {
    "duration": 775,
    "start_time": "2024-05-29T02:20:24.394Z"
   },
   {
    "duration": 12,
    "start_time": "2024-05-29T02:20:25.279Z"
   },
   {
    "duration": 142,
    "start_time": "2024-05-29T02:20:26.190Z"
   },
   {
    "duration": 99,
    "start_time": "2024-05-29T02:20:27.367Z"
   },
   {
    "duration": 319,
    "start_time": "2024-05-29T02:20:59.985Z"
   },
   {
    "duration": 23,
    "start_time": "2024-05-29T02:21:33.894Z"
   },
   {
    "duration": 1210,
    "start_time": "2024-05-29T02:21:46.167Z"
   },
   {
    "duration": 802,
    "start_time": "2024-05-29T02:21:47.381Z"
   },
   {
    "duration": 12,
    "start_time": "2024-05-29T02:21:48.186Z"
   },
   {
    "duration": 159,
    "start_time": "2024-05-29T02:21:48.201Z"
   },
   {
    "duration": 118,
    "start_time": "2024-05-29T02:21:48.364Z"
   },
   {
    "duration": 407,
    "start_time": "2024-05-29T02:21:48.484Z"
   },
   {
    "duration": 26,
    "start_time": "2024-05-29T02:21:59.168Z"
   },
   {
    "duration": 22,
    "start_time": "2024-05-29T02:22:08.500Z"
   },
   {
    "duration": 9,
    "start_time": "2024-05-29T02:22:29.638Z"
   },
   {
    "duration": 24,
    "start_time": "2024-05-29T02:22:36.604Z"
   },
   {
    "duration": 405,
    "start_time": "2024-05-29T02:23:11.450Z"
   },
   {
    "duration": 196,
    "start_time": "2024-05-29T02:23:39.453Z"
   },
   {
    "duration": 298,
    "start_time": "2024-05-29T02:24:17.214Z"
   },
   {
    "duration": 305,
    "start_time": "2024-05-29T02:24:45.528Z"
   },
   {
    "duration": 279,
    "start_time": "2024-05-29T02:25:19.230Z"
   },
   {
    "duration": 97,
    "start_time": "2024-05-29T02:25:42.069Z"
   },
   {
    "duration": 95,
    "start_time": "2024-05-29T02:25:48.757Z"
   },
   {
    "duration": 101,
    "start_time": "2024-05-29T02:26:10.136Z"
   },
   {
    "duration": 38,
    "start_time": "2024-05-29T02:26:58.244Z"
   },
   {
    "duration": 5,
    "start_time": "2024-05-29T02:27:21.463Z"
   },
   {
    "duration": 33,
    "start_time": "2024-05-29T02:27:26.697Z"
   },
   {
    "duration": 4,
    "start_time": "2024-05-29T02:27:45.371Z"
   },
   {
    "duration": 40,
    "start_time": "2024-05-29T02:27:49.887Z"
   },
   {
    "duration": 1208,
    "start_time": "2024-06-01T01:07:39.499Z"
   },
   {
    "duration": 4,
    "start_time": "2024-06-01T01:07:47.342Z"
   },
   {
    "duration": 805,
    "start_time": "2024-06-01T01:07:47.913Z"
   },
   {
    "duration": 12,
    "start_time": "2024-06-01T01:07:48.825Z"
   },
   {
    "duration": 140,
    "start_time": "2024-06-01T01:07:50.110Z"
   },
   {
    "duration": 110,
    "start_time": "2024-06-01T01:07:50.799Z"
   },
   {
    "duration": 431,
    "start_time": "2024-06-01T01:07:51.595Z"
   },
   {
    "duration": 141,
    "start_time": "2024-06-01T01:07:52.359Z"
   },
   {
    "duration": 144,
    "start_time": "2024-06-01T01:07:53.056Z"
   },
   {
    "duration": 866,
    "start_time": "2024-06-01T01:09:04.756Z"
   },
   {
    "duration": 293,
    "start_time": "2024-06-01T01:10:19.752Z"
   },
   {
    "duration": 323,
    "start_time": "2024-06-01T01:10:27.586Z"
   },
   {
    "duration": 22,
    "start_time": "2024-06-01T01:10:45.376Z"
   },
   {
    "duration": 20,
    "start_time": "2024-06-01T01:10:58.665Z"
   },
   {
    "duration": 1196,
    "start_time": "2024-06-01T01:11:14.011Z"
   },
   {
    "duration": 774,
    "start_time": "2024-06-01T01:11:16.794Z"
   },
   {
    "duration": 13,
    "start_time": "2024-06-01T01:11:17.572Z"
   },
   {
    "duration": 147,
    "start_time": "2024-06-01T01:11:18.488Z"
   },
   {
    "duration": 135,
    "start_time": "2024-06-01T01:11:19.296Z"
   },
   {
    "duration": 426,
    "start_time": "2024-06-01T01:11:20.037Z"
   },
   {
    "duration": 842,
    "start_time": "2024-06-01T01:11:20.899Z"
   },
   {
    "duration": 139,
    "start_time": "2024-06-01T01:11:22.394Z"
   },
   {
    "duration": 291,
    "start_time": "2024-06-01T01:11:23.368Z"
   },
   {
    "duration": 1200,
    "start_time": "2024-06-01T01:11:49.515Z"
   },
   {
    "duration": 831,
    "start_time": "2024-06-01T01:11:51.974Z"
   },
   {
    "duration": 12,
    "start_time": "2024-06-01T01:12:01.258Z"
   },
   {
    "duration": 143,
    "start_time": "2024-06-01T01:12:02.867Z"
   },
   {
    "duration": 103,
    "start_time": "2024-06-01T01:12:03.751Z"
   },
   {
    "duration": 402,
    "start_time": "2024-06-01T01:12:04.556Z"
   },
   {
    "duration": 860,
    "start_time": "2024-06-01T01:12:05.696Z"
   },
   {
    "duration": 133,
    "start_time": "2024-06-01T01:12:06.847Z"
   },
   {
    "duration": 280,
    "start_time": "2024-06-01T01:12:07.820Z"
   },
   {
    "duration": 310,
    "start_time": "2024-06-01T01:12:41.034Z"
   },
   {
    "duration": 1233,
    "start_time": "2024-06-01T01:12:51.967Z"
   },
   {
    "duration": 779,
    "start_time": "2024-06-01T01:12:53.204Z"
   },
   {
    "duration": 13,
    "start_time": "2024-06-01T01:12:53.986Z"
   },
   {
    "duration": 163,
    "start_time": "2024-06-01T01:12:54.002Z"
   },
   {
    "duration": 147,
    "start_time": "2024-06-01T01:12:54.170Z"
   },
   {
    "duration": 442,
    "start_time": "2024-06-01T01:12:54.320Z"
   },
   {
    "duration": 893,
    "start_time": "2024-06-01T01:12:54.765Z"
   },
   {
    "duration": 147,
    "start_time": "2024-06-01T01:12:55.662Z"
   },
   {
    "duration": 306,
    "start_time": "2024-06-01T01:12:55.813Z"
   },
   {
    "duration": 374,
    "start_time": "2024-06-01T01:12:56.130Z"
   },
   {
    "duration": 0,
    "start_time": "2024-06-01T01:12:56.507Z"
   },
   {
    "duration": 1116,
    "start_time": "2024-06-01T01:14:30.282Z"
   },
   {
    "duration": 33,
    "start_time": "2024-06-01T01:15:07.783Z"
   },
   {
    "duration": 9,
    "start_time": "2024-06-01T01:15:15.762Z"
   },
   {
    "duration": 347,
    "start_time": "2024-06-01T01:16:24.006Z"
   },
   {
    "duration": 2062,
    "start_time": "2024-06-01T01:17:45.268Z"
   },
   {
    "duration": 52,
    "start_time": "2024-06-01T01:18:08.156Z"
   },
   {
    "duration": 456,
    "start_time": "2024-06-01T01:18:36.382Z"
   },
   {
    "duration": 114,
    "start_time": "2024-06-01T01:18:55.517Z"
   },
   {
    "duration": 659,
    "start_time": "2024-06-01T01:19:12.871Z"
   },
   {
    "duration": 5,
    "start_time": "2024-06-01T01:19:28.731Z"
   },
   {
    "duration": 8,
    "start_time": "2024-06-01T01:19:50.356Z"
   },
   {
    "duration": 1282,
    "start_time": "2024-06-01T01:22:05.030Z"
   },
   {
    "duration": 767,
    "start_time": "2024-06-01T01:22:06.316Z"
   },
   {
    "duration": 9,
    "start_time": "2024-06-01T01:22:07.086Z"
   },
   {
    "duration": 33,
    "start_time": "2024-06-01T01:22:07.099Z"
   },
   {
    "duration": 160,
    "start_time": "2024-06-01T01:22:07.138Z"
   },
   {
    "duration": 115,
    "start_time": "2024-06-01T01:22:07.300Z"
   },
   {
    "duration": 422,
    "start_time": "2024-06-01T01:22:07.418Z"
   },
   {
    "duration": 864,
    "start_time": "2024-06-01T01:22:07.844Z"
   },
   {
    "duration": 141,
    "start_time": "2024-06-01T01:22:08.711Z"
   },
   {
    "duration": 305,
    "start_time": "2024-06-01T01:22:08.855Z"
   },
   {
    "duration": 2115,
    "start_time": "2024-06-01T01:22:09.163Z"
   },
   {
    "duration": 59,
    "start_time": "2024-06-01T01:22:11.281Z"
   },
   {
    "duration": 469,
    "start_time": "2024-06-01T01:22:11.343Z"
   },
   {
    "duration": 117,
    "start_time": "2024-06-01T01:22:11.817Z"
   },
   {
    "duration": 682,
    "start_time": "2024-06-01T01:22:11.937Z"
   },
   {
    "duration": 11,
    "start_time": "2024-06-01T01:22:12.621Z"
   },
   {
    "duration": 5,
    "start_time": "2024-06-01T01:22:12.636Z"
   },
   {
    "duration": 1309,
    "start_time": "2024-06-01T01:26:30.249Z"
   },
   {
    "duration": 265,
    "start_time": "2024-06-01T01:27:01.576Z"
   },
   {
    "duration": 721,
    "start_time": "2024-06-01T01:27:03.186Z"
   },
   {
    "duration": 10,
    "start_time": "2024-06-01T01:27:04.748Z"
   },
   {
    "duration": 12,
    "start_time": "2024-06-01T01:27:06.038Z"
   },
   {
    "duration": 141,
    "start_time": "2024-06-01T01:27:07.621Z"
   },
   {
    "duration": 106,
    "start_time": "2024-06-01T01:27:08.634Z"
   },
   {
    "duration": 392,
    "start_time": "2024-06-01T01:27:09.600Z"
   },
   {
    "duration": 902,
    "start_time": "2024-06-01T01:27:11.195Z"
   },
   {
    "duration": 131,
    "start_time": "2024-06-01T01:27:15.076Z"
   },
   {
    "duration": 278,
    "start_time": "2024-06-01T01:27:16.291Z"
   },
   {
    "duration": 2085,
    "start_time": "2024-06-01T01:27:26.915Z"
   },
   {
    "duration": 46,
    "start_time": "2024-06-01T01:27:50.867Z"
   },
   {
    "duration": 461,
    "start_time": "2024-06-01T01:28:07.408Z"
   },
   {
    "duration": 127,
    "start_time": "2024-06-01T01:28:24.005Z"
   },
   {
    "duration": 645,
    "start_time": "2024-06-01T01:28:46.138Z"
   },
   {
    "duration": 6,
    "start_time": "2024-06-01T01:30:16.735Z"
   },
   {
    "duration": 1493,
    "start_time": "2024-06-01T01:31:28.621Z"
   },
   {
    "duration": 733,
    "start_time": "2024-06-01T01:31:31.133Z"
   },
   {
    "duration": 9,
    "start_time": "2024-06-01T01:31:32.098Z"
   },
   {
    "duration": 11,
    "start_time": "2024-06-01T01:31:33.210Z"
   },
   {
    "duration": 146,
    "start_time": "2024-06-01T01:31:33.880Z"
   },
   {
    "duration": 102,
    "start_time": "2024-06-01T01:31:34.757Z"
   },
   {
    "duration": 470,
    "start_time": "2024-06-01T01:31:35.483Z"
   },
   {
    "duration": 950,
    "start_time": "2024-06-01T01:31:36.883Z"
   },
   {
    "duration": 133,
    "start_time": "2024-06-01T01:31:38.474Z"
   },
   {
    "duration": 274,
    "start_time": "2024-06-01T01:31:39.371Z"
   },
   {
    "duration": 2107,
    "start_time": "2024-06-01T01:31:41.411Z"
   },
   {
    "duration": 45,
    "start_time": "2024-06-01T01:31:44.087Z"
   },
   {
    "duration": 455,
    "start_time": "2024-06-01T01:31:45.690Z"
   },
   {
    "duration": 103,
    "start_time": "2024-06-01T01:31:48.845Z"
   },
   {
    "duration": 652,
    "start_time": "2024-06-01T01:31:49.904Z"
   },
   {
    "duration": 7,
    "start_time": "2024-06-01T01:31:51.764Z"
   },
   {
    "duration": 654020,
    "start_time": "2024-06-01T01:31:54.273Z"
   },
   {
    "duration": 346,
    "start_time": "2024-06-01T01:42:48.297Z"
   },
   {
    "duration": 130,
    "start_time": "2024-06-01T01:42:48.647Z"
   },
   {
    "duration": 6,
    "start_time": "2024-06-01T01:42:48.781Z"
   },
   {
    "duration": 687,
    "start_time": "2024-06-01T01:42:48.790Z"
   },
   {
    "duration": 0,
    "start_time": "2024-06-01T01:42:49.481Z"
   },
   {
    "duration": 0,
    "start_time": "2024-06-01T01:42:49.483Z"
   },
   {
    "duration": 0,
    "start_time": "2024-06-01T01:42:49.485Z"
   },
   {
    "duration": 0,
    "start_time": "2024-06-01T01:42:49.488Z"
   },
   {
    "duration": 40,
    "start_time": "2024-06-01T01:52:55.925Z"
   },
   {
    "duration": 3941,
    "start_time": "2024-06-01T01:53:18.973Z"
   },
   {
    "duration": 40,
    "start_time": "2024-06-01T01:53:29.017Z"
   },
   {
    "duration": 40,
    "start_time": "2024-06-01T01:54:28.273Z"
   },
   {
    "duration": 1911,
    "start_time": "2024-06-01T01:54:34.673Z"
   },
   {
    "duration": 1199,
    "start_time": "2024-06-01T01:54:37.764Z"
   },
   {
    "duration": 863,
    "start_time": "2024-06-01T01:54:40.473Z"
   },
   {
    "duration": 30,
    "start_time": "2024-06-01T01:56:55.352Z"
   },
   {
    "duration": 88,
    "start_time": "2024-06-01T01:58:29.937Z"
   },
   {
    "duration": 5,
    "start_time": "2024-06-01T01:59:30.138Z"
   },
   {
    "duration": 1707,
    "start_time": "2024-06-01T01:59:42.255Z"
   },
   {
    "duration": 717,
    "start_time": "2024-06-01T01:59:46.299Z"
   },
   {
    "duration": 6,
    "start_time": "2024-06-01T01:59:47.936Z"
   },
   {
    "duration": 14,
    "start_time": "2024-06-01T01:59:48.663Z"
   },
   {
    "duration": 147,
    "start_time": "2024-06-01T01:59:49.469Z"
   },
   {
    "duration": 147,
    "start_time": "2024-06-01T01:59:50.578Z"
   },
   {
    "duration": 423,
    "start_time": "2024-06-01T01:59:51.387Z"
   },
   {
    "duration": 844,
    "start_time": "2024-06-01T01:59:54.255Z"
   },
   {
    "duration": 141,
    "start_time": "2024-06-01T01:59:55.777Z"
   },
   {
    "duration": 288,
    "start_time": "2024-06-01T01:59:57.121Z"
   },
   {
    "duration": 1925,
    "start_time": "2024-06-01T02:00:02.289Z"
   },
   {
    "duration": 1215,
    "start_time": "2024-06-01T02:00:05.276Z"
   },
   {
    "duration": 2123,
    "start_time": "2024-06-01T02:00:12.763Z"
   },
   {
    "duration": 46,
    "start_time": "2024-06-01T02:00:17.528Z"
   },
   {
    "duration": 463,
    "start_time": "2024-06-01T02:00:18.451Z"
   },
   {
    "duration": 74,
    "start_time": "2024-06-01T02:00:20.892Z"
   },
   {
    "duration": 662,
    "start_time": "2024-06-01T02:00:21.940Z"
   },
   {
    "duration": 1728,
    "start_time": "2024-06-01T02:10:35.724Z"
   },
   {
    "duration": 803,
    "start_time": "2024-06-01T02:10:37.457Z"
   },
   {
    "duration": 8,
    "start_time": "2024-06-01T02:10:38.263Z"
   },
   {
    "duration": 13,
    "start_time": "2024-06-01T02:10:38.274Z"
   },
   {
    "duration": 175,
    "start_time": "2024-06-01T02:10:38.292Z"
   },
   {
    "duration": 148,
    "start_time": "2024-06-01T02:10:38.470Z"
   },
   {
    "duration": 415,
    "start_time": "2024-06-01T02:10:38.621Z"
   },
   {
    "duration": 846,
    "start_time": "2024-06-01T02:10:39.039Z"
   },
   {
    "duration": 145,
    "start_time": "2024-06-01T02:10:39.887Z"
   },
   {
    "duration": 332,
    "start_time": "2024-06-01T02:10:40.036Z"
   },
   {
    "duration": 1951,
    "start_time": "2024-06-01T02:10:40.372Z"
   },
   {
    "duration": 1242,
    "start_time": "2024-06-01T02:10:42.325Z"
   },
   {
    "duration": 2110,
    "start_time": "2024-06-01T02:10:43.570Z"
   },
   {
    "duration": 62,
    "start_time": "2024-06-01T02:10:45.686Z"
   },
   {
    "duration": 468,
    "start_time": "2024-06-01T02:10:45.751Z"
   },
   {
    "duration": 79,
    "start_time": "2024-06-01T02:10:46.222Z"
   },
   {
    "duration": 667,
    "start_time": "2024-06-01T02:10:46.303Z"
   },
   {
    "duration": 4,
    "start_time": "2024-06-01T02:10:46.973Z"
   },
   {
    "duration": 325,
    "start_time": "2024-06-01T02:58:40.825Z"
   },
   {
    "duration": 1798,
    "start_time": "2024-06-01T02:59:02.027Z"
   },
   {
    "duration": 775,
    "start_time": "2024-06-01T02:59:03.830Z"
   },
   {
    "duration": 7,
    "start_time": "2024-06-01T02:59:04.872Z"
   },
   {
    "duration": 12,
    "start_time": "2024-06-01T02:59:05.572Z"
   },
   {
    "duration": 160,
    "start_time": "2024-06-01T02:59:06.161Z"
   },
   {
    "duration": 130,
    "start_time": "2024-06-01T02:59:06.876Z"
   },
   {
    "duration": 419,
    "start_time": "2024-06-01T02:59:07.429Z"
   },
   {
    "duration": 887,
    "start_time": "2024-06-01T02:59:08.054Z"
   },
   {
    "duration": 144,
    "start_time": "2024-06-01T02:59:08.945Z"
   },
   {
    "duration": 284,
    "start_time": "2024-06-01T02:59:09.559Z"
   },
   {
    "duration": 1904,
    "start_time": "2024-06-01T02:59:11.095Z"
   },
   {
    "duration": 1225,
    "start_time": "2024-06-01T02:59:14.001Z"
   },
   {
    "duration": 2164,
    "start_time": "2024-06-01T02:59:42.949Z"
   },
   {
    "duration": 45,
    "start_time": "2024-06-01T02:59:46.602Z"
   },
   {
    "duration": 472,
    "start_time": "2024-06-01T02:59:47.674Z"
   },
   {
    "duration": 74,
    "start_time": "2024-06-01T02:59:49.190Z"
   },
   {
    "duration": 644,
    "start_time": "2024-06-01T02:59:50.004Z"
   },
   {
    "duration": 5,
    "start_time": "2024-06-01T02:59:51.603Z"
   },
   {
    "duration": 66869,
    "start_time": "2024-06-01T02:59:52.939Z"
   },
   {
    "duration": 0,
    "start_time": "2024-06-01T03:00:59.812Z"
   },
   {
    "duration": 0,
    "start_time": "2024-06-01T03:00:59.814Z"
   },
   {
    "duration": 0,
    "start_time": "2024-06-01T03:00:59.817Z"
   },
   {
    "duration": 0,
    "start_time": "2024-06-01T03:00:59.830Z"
   },
   {
    "duration": 0,
    "start_time": "2024-06-01T03:00:59.833Z"
   },
   {
    "duration": 5654,
    "start_time": "2024-06-05T00:58:27.230Z"
   },
   {
    "duration": 866,
    "start_time": "2024-06-05T00:58:35.014Z"
   },
   {
    "duration": 8,
    "start_time": "2024-06-05T00:58:37.490Z"
   },
   {
    "duration": 14,
    "start_time": "2024-06-05T00:58:38.949Z"
   },
   {
    "duration": 191,
    "start_time": "2024-06-05T00:58:40.133Z"
   },
   {
    "duration": 106,
    "start_time": "2024-06-05T00:58:41.516Z"
   },
   {
    "duration": 437,
    "start_time": "2024-06-05T00:58:42.795Z"
   },
   {
    "duration": 927,
    "start_time": "2024-06-05T00:58:44.293Z"
   },
   {
    "duration": 158,
    "start_time": "2024-06-05T00:58:46.045Z"
   },
   {
    "duration": 284,
    "start_time": "2024-06-05T00:58:47.075Z"
   },
   {
    "duration": 463,
    "start_time": "2024-06-05T00:58:50.010Z"
   },
   {
    "duration": 1284,
    "start_time": "2024-06-05T00:58:51.857Z"
   },
   {
    "duration": 1973,
    "start_time": "2024-06-05T00:59:10.614Z"
   },
   {
    "duration": 135,
    "start_time": "2024-06-05T00:59:31.459Z"
   },
   {
    "duration": 34,
    "start_time": "2024-06-05T00:59:41.999Z"
   },
   {
    "duration": 451,
    "start_time": "2024-06-05T00:59:58.173Z"
   },
   {
    "duration": 578,
    "start_time": "2024-06-05T01:00:21.677Z"
   },
   {
    "duration": 33,
    "start_time": "2024-06-05T01:01:13.664Z"
   },
   {
    "duration": 16213,
    "start_time": "2024-06-05T01:01:21.816Z"
   },
   {
    "duration": 29,
    "start_time": "2024-06-05T01:05:07.938Z"
   },
   {
    "duration": 4,
    "start_time": "2024-06-05T01:05:08.734Z"
   },
   {
    "duration": 9,
    "start_time": "2024-06-05T01:05:09.462Z"
   },
   {
    "duration": 26,
    "start_time": "2024-06-05T01:05:10.138Z"
   },
   {
    "duration": 9,
    "start_time": "2024-06-05T01:05:31.756Z"
   },
   {
    "duration": 40,
    "start_time": "2024-06-05T01:05:38.783Z"
   },
   {
    "duration": 5,
    "start_time": "2024-06-05T01:06:06.201Z"
   },
   {
    "duration": 4,
    "start_time": "2024-06-05T01:06:12.433Z"
   },
   {
    "duration": 110,
    "start_time": "2024-06-05T01:06:19.239Z"
   },
   {
    "duration": 30,
    "start_time": "2024-06-05T01:06:56.242Z"
   },
   {
    "duration": 10,
    "start_time": "2024-06-05T01:07:29.024Z"
   },
   {
    "duration": 845,
    "start_time": "2024-06-05T01:07:30.221Z"
   },
   {
    "duration": 14312,
    "start_time": "2024-06-05T01:07:36.887Z"
   },
   {
    "duration": 54,
    "start_time": "2024-06-05T01:07:51.203Z"
   },
   {
    "duration": 13476,
    "start_time": "2024-06-05T01:07:56.522Z"
   },
   {
    "duration": 14142,
    "start_time": "2024-06-05T01:08:13.681Z"
   },
   {
    "duration": 26,
    "start_time": "2024-06-05T01:09:03.909Z"
   },
   {
    "duration": 101396,
    "start_time": "2024-06-05T01:09:23.278Z"
   },
   {
    "duration": 206670,
    "start_time": "2024-06-05T01:11:09.737Z"
   },
   {
    "duration": 0,
    "start_time": "2024-06-05T01:14:36.421Z"
   },
   {
    "duration": 0,
    "start_time": "2024-06-05T01:14:36.422Z"
   },
   {
    "duration": 198178,
    "start_time": "2024-06-05T01:14:52.309Z"
   },
   {
    "duration": 0,
    "start_time": "2024-06-05T01:18:10.494Z"
   },
   {
    "duration": 0,
    "start_time": "2024-06-05T01:18:10.496Z"
   },
   {
    "duration": 46421,
    "start_time": "2024-06-05T01:18:27.195Z"
   },
   {
    "duration": 27,
    "start_time": "2024-06-05T01:22:21.164Z"
   },
   {
    "duration": 4,
    "start_time": "2024-06-05T01:22:31.345Z"
   },
   {
    "duration": 26,
    "start_time": "2024-06-05T01:24:16.053Z"
   },
   {
    "duration": 1850,
    "start_time": "2024-06-05T01:32:00.279Z"
   },
   {
    "duration": 802,
    "start_time": "2024-06-05T01:32:02.133Z"
   },
   {
    "duration": 15,
    "start_time": "2024-06-05T01:32:02.939Z"
   },
   {
    "duration": 14,
    "start_time": "2024-06-05T01:32:02.959Z"
   },
   {
    "duration": 190,
    "start_time": "2024-06-05T01:32:02.977Z"
   },
   {
    "duration": 116,
    "start_time": "2024-06-05T01:32:03.170Z"
   },
   {
    "duration": 467,
    "start_time": "2024-06-05T01:32:03.289Z"
   },
   {
    "duration": 920,
    "start_time": "2024-06-05T01:32:03.759Z"
   },
   {
    "duration": 182,
    "start_time": "2024-06-05T01:32:04.683Z"
   },
   {
    "duration": 309,
    "start_time": "2024-06-05T01:32:04.870Z"
   },
   {
    "duration": 2005,
    "start_time": "2024-06-05T01:32:05.182Z"
   },
   {
    "duration": 460,
    "start_time": "2024-06-05T01:32:07.191Z"
   },
   {
    "duration": 590,
    "start_time": "2024-06-05T01:32:07.654Z"
   },
   {
    "duration": 16607,
    "start_time": "2024-06-05T01:32:08.247Z"
   },
   {
    "duration": 31,
    "start_time": "2024-06-05T01:32:24.858Z"
   },
   {
    "duration": 7,
    "start_time": "2024-06-05T01:32:24.893Z"
   },
   {
    "duration": 13,
    "start_time": "2024-06-05T01:32:24.903Z"
   },
   {
    "duration": 8,
    "start_time": "2024-06-05T01:32:24.919Z"
   },
   {
    "duration": 113,
    "start_time": "2024-06-05T01:32:24.932Z"
   },
   {
    "duration": 13594,
    "start_time": "2024-06-05T01:32:25.048Z"
   },
   {
    "duration": 87305,
    "start_time": "2024-06-05T01:32:38.645Z"
   },
   {
    "duration": 6142556,
    "start_time": "2024-06-05T01:34:05.952Z"
   },
   {
    "duration": 30228,
    "start_time": "2024-06-05T03:16:28.511Z"
   },
   {
    "duration": 6,
    "start_time": "2024-06-05T03:16:58.742Z"
   },
   {
    "duration": 60,
    "start_time": "2024-06-05T03:16:58.751Z"
   },
   {
    "duration": 6,
    "start_time": "2024-06-05T03:16:58.813Z"
   },
   {
    "duration": 0,
    "start_time": "2024-06-05T03:16:58.823Z"
   },
   {
    "duration": 0,
    "start_time": "2024-06-05T03:16:58.825Z"
   },
   {
    "duration": 0,
    "start_time": "2024-06-05T03:16:58.826Z"
   },
   {
    "duration": 0,
    "start_time": "2024-06-05T03:16:58.828Z"
   },
   {
    "duration": 0,
    "start_time": "2024-06-05T03:16:58.831Z"
   },
   {
    "duration": 0,
    "start_time": "2024-06-05T03:16:58.833Z"
   },
   {
    "duration": 0,
    "start_time": "2024-06-05T03:16:58.835Z"
   },
   {
    "duration": 5446,
    "start_time": "2024-06-06T01:57:15.272Z"
   },
   {
    "duration": 915,
    "start_time": "2024-06-06T01:57:20.722Z"
   },
   {
    "duration": 8,
    "start_time": "2024-06-06T01:57:22.302Z"
   },
   {
    "duration": 22,
    "start_time": "2024-06-06T01:57:23.408Z"
   },
   {
    "duration": 165,
    "start_time": "2024-06-06T01:57:24.218Z"
   },
   {
    "duration": 112,
    "start_time": "2024-06-06T01:57:25.189Z"
   },
   {
    "duration": 405,
    "start_time": "2024-06-06T01:57:26.012Z"
   },
   {
    "duration": 885,
    "start_time": "2024-06-06T01:57:27.760Z"
   },
   {
    "duration": 135,
    "start_time": "2024-06-06T01:57:29.708Z"
   },
   {
    "duration": 324,
    "start_time": "2024-06-06T01:57:31.255Z"
   },
   {
    "duration": 1974,
    "start_time": "2024-06-06T01:57:35.574Z"
   },
   {
    "duration": 378,
    "start_time": "2024-06-06T01:57:38.697Z"
   },
   {
    "duration": 561,
    "start_time": "2024-06-06T01:57:40.168Z"
   },
   {
    "duration": 15714,
    "start_time": "2024-06-06T01:57:41.839Z"
   },
   {
    "duration": 34,
    "start_time": "2024-06-06T01:57:57.557Z"
   },
   {
    "duration": 5,
    "start_time": "2024-06-06T01:58:01.760Z"
   },
   {
    "duration": 9,
    "start_time": "2024-06-06T01:58:02.638Z"
   },
   {
    "duration": 4,
    "start_time": "2024-06-06T01:58:03.326Z"
   },
   {
    "duration": 107,
    "start_time": "2024-06-06T01:58:04.046Z"
   },
   {
    "duration": 14742,
    "start_time": "2024-06-06T01:58:06.696Z"
   },
   {
    "duration": 90832,
    "start_time": "2024-06-06T01:58:21.441Z"
   },
   {
    "duration": 50262,
    "start_time": "2024-06-06T01:59:52.275Z"
   },
   {
    "duration": 8,
    "start_time": "2024-06-06T02:00:42.541Z"
   },
   {
    "duration": 1774,
    "start_time": "2024-06-06T02:02:45.027Z"
   },
   {
    "duration": 776,
    "start_time": "2024-06-06T02:02:46.854Z"
   },
   {
    "duration": 8,
    "start_time": "2024-06-06T02:02:47.634Z"
   },
   {
    "duration": 13,
    "start_time": "2024-06-06T02:02:50.389Z"
   },
   {
    "duration": 144,
    "start_time": "2024-06-06T02:02:51.158Z"
   },
   {
    "duration": 106,
    "start_time": "2024-06-06T02:02:52.200Z"
   },
   {
    "duration": 399,
    "start_time": "2024-06-06T02:02:52.895Z"
   },
   {
    "duration": 855,
    "start_time": "2024-06-06T02:02:53.426Z"
   },
   {
    "duration": 148,
    "start_time": "2024-06-06T02:02:54.286Z"
   },
   {
    "duration": 273,
    "start_time": "2024-06-06T02:02:54.622Z"
   },
   {
    "duration": 1947,
    "start_time": "2024-06-06T02:02:55.963Z"
   },
   {
    "duration": 403,
    "start_time": "2024-06-06T02:02:57.913Z"
   },
   {
    "duration": 547,
    "start_time": "2024-06-06T02:02:58.770Z"
   },
   {
    "duration": 15735,
    "start_time": "2024-06-06T02:02:59.834Z"
   },
   {
    "duration": 29,
    "start_time": "2024-06-06T02:03:15.573Z"
   },
   {
    "duration": 3,
    "start_time": "2024-06-06T02:03:18.509Z"
   },
   {
    "duration": 9,
    "start_time": "2024-06-06T02:03:20.135Z"
   },
   {
    "duration": 4,
    "start_time": "2024-06-06T02:03:23.327Z"
   },
   {
    "duration": 91,
    "start_time": "2024-06-06T02:03:23.610Z"
   },
   {
    "duration": 15643,
    "start_time": "2024-06-06T02:05:29.390Z"
   },
   {
    "duration": 87838,
    "start_time": "2024-06-06T02:05:45.037Z"
   },
   {
    "duration": 51298,
    "start_time": "2024-06-06T02:07:12.877Z"
   },
   {
    "duration": 176810,
    "start_time": "2024-06-06T02:08:04.178Z"
   },
   {
    "duration": 0,
    "start_time": "2024-06-06T02:11:00.992Z"
   },
   {
    "duration": 38845,
    "start_time": "2024-06-06T02:12:51.213Z"
   },
   {
    "duration": 5,
    "start_time": "2024-06-06T02:14:28.177Z"
   },
   {
    "duration": 6,
    "start_time": "2024-06-06T02:15:57.466Z"
   },
   {
    "duration": 6,
    "start_time": "2024-06-06T02:16:47.697Z"
   },
   {
    "duration": 667168,
    "start_time": "2024-06-06T02:16:53.795Z"
   },
   {
    "duration": 0,
    "start_time": "2024-06-06T02:28:00.967Z"
   },
   {
    "duration": 0,
    "start_time": "2024-06-06T02:28:00.969Z"
   },
   {
    "duration": 0,
    "start_time": "2024-06-06T02:28:00.971Z"
   },
   {
    "duration": 0,
    "start_time": "2024-06-06T02:28:00.973Z"
   },
   {
    "duration": 0,
    "start_time": "2024-06-06T02:28:00.975Z"
   },
   {
    "duration": 1781,
    "start_time": "2024-06-06T02:35:55.445Z"
   },
   {
    "duration": 727,
    "start_time": "2024-06-06T02:35:57.232Z"
   },
   {
    "duration": 9,
    "start_time": "2024-06-06T02:35:57.962Z"
   },
   {
    "duration": 14,
    "start_time": "2024-06-06T02:35:57.976Z"
   },
   {
    "duration": 171,
    "start_time": "2024-06-06T02:35:57.993Z"
   },
   {
    "duration": 119,
    "start_time": "2024-06-06T02:35:58.167Z"
   },
   {
    "duration": 397,
    "start_time": "2024-06-06T02:35:58.289Z"
   },
   {
    "duration": 884,
    "start_time": "2024-06-06T02:35:58.689Z"
   },
   {
    "duration": 146,
    "start_time": "2024-06-06T02:35:59.576Z"
   },
   {
    "duration": 288,
    "start_time": "2024-06-06T02:35:59.738Z"
   },
   {
    "duration": 1985,
    "start_time": "2024-06-06T02:36:00.033Z"
   },
   {
    "duration": 403,
    "start_time": "2024-06-06T02:36:02.021Z"
   },
   {
    "duration": 543,
    "start_time": "2024-06-06T02:36:02.434Z"
   },
   {
    "duration": 15629,
    "start_time": "2024-06-06T02:36:02.980Z"
   },
   {
    "duration": 29,
    "start_time": "2024-06-06T02:36:18.612Z"
   },
   {
    "duration": 5,
    "start_time": "2024-06-06T02:36:18.644Z"
   },
   {
    "duration": 10,
    "start_time": "2024-06-06T02:36:18.653Z"
   },
   {
    "duration": 5,
    "start_time": "2024-06-06T02:36:18.666Z"
   },
   {
    "duration": 143,
    "start_time": "2024-06-06T02:36:18.675Z"
   },
   {
    "duration": 13294,
    "start_time": "2024-06-06T02:36:18.821Z"
   },
   {
    "duration": 85361,
    "start_time": "2024-06-06T02:36:32.118Z"
   },
   {
    "duration": 31269,
    "start_time": "2024-06-06T02:37:57.482Z"
   },
   {
    "duration": 36941,
    "start_time": "2024-06-06T02:38:28.754Z"
   },
   {
    "duration": 5,
    "start_time": "2024-06-06T02:39:05.698Z"
   },
   {
    "duration": 26,
    "start_time": "2024-06-06T02:39:05.707Z"
   },
   {
    "duration": 171427,
    "start_time": "2024-06-06T02:39:05.736Z"
   },
   {
    "duration": 1716,
    "start_time": "2024-06-06T02:51:40.703Z"
   },
   {
    "duration": 739,
    "start_time": "2024-06-06T02:51:42.422Z"
   },
   {
    "duration": 10,
    "start_time": "2024-06-06T02:51:45.228Z"
   },
   {
    "duration": 13,
    "start_time": "2024-06-06T02:51:45.558Z"
   },
   {
    "duration": 141,
    "start_time": "2024-06-06T02:51:45.878Z"
   },
   {
    "duration": 109,
    "start_time": "2024-06-06T02:51:46.316Z"
   },
   {
    "duration": 399,
    "start_time": "2024-06-06T02:51:46.559Z"
   },
   {
    "duration": 926,
    "start_time": "2024-06-06T02:51:46.989Z"
   },
   {
    "duration": 150,
    "start_time": "2024-06-06T02:51:47.920Z"
   },
   {
    "duration": 382,
    "start_time": "2024-06-06T02:51:48.073Z"
   },
   {
    "duration": 1910,
    "start_time": "2024-06-06T02:51:48.459Z"
   },
   {
    "duration": 389,
    "start_time": "2024-06-06T02:51:50.372Z"
   },
   {
    "duration": 544,
    "start_time": "2024-06-06T02:51:50.763Z"
   },
   {
    "duration": 15362,
    "start_time": "2024-06-06T02:51:51.311Z"
   },
   {
    "duration": 29,
    "start_time": "2024-06-06T02:52:06.677Z"
   },
   {
    "duration": 3,
    "start_time": "2024-06-06T02:52:06.709Z"
   },
   {
    "duration": 17,
    "start_time": "2024-06-06T02:52:06.717Z"
   },
   {
    "duration": 8,
    "start_time": "2024-06-06T02:52:06.737Z"
   },
   {
    "duration": 124,
    "start_time": "2024-06-06T02:52:06.747Z"
   },
   {
    "duration": 14145,
    "start_time": "2024-06-06T02:52:06.875Z"
   },
   {
    "duration": 85443,
    "start_time": "2024-06-06T02:52:21.023Z"
   },
   {
    "duration": 30903,
    "start_time": "2024-06-06T02:53:46.469Z"
   },
   {
    "duration": 37464,
    "start_time": "2024-06-06T02:54:17.434Z"
   },
   {
    "duration": 4,
    "start_time": "2024-06-06T02:54:54.901Z"
   },
   {
    "duration": 25,
    "start_time": "2024-06-06T02:54:54.908Z"
   },
   {
    "duration": 171008,
    "start_time": "2024-06-06T02:54:54.936Z"
   },
   {
    "duration": 1552057,
    "start_time": "2024-06-06T02:57:45.947Z"
   },
   {
    "duration": 0,
    "start_time": "2024-06-06T03:23:38.008Z"
   },
   {
    "duration": 0,
    "start_time": "2024-06-06T03:23:38.010Z"
   },
   {
    "duration": 0,
    "start_time": "2024-06-06T03:23:38.013Z"
   },
   {
    "duration": 0,
    "start_time": "2024-06-06T03:23:38.015Z"
   },
   {
    "duration": 35916,
    "start_time": "2024-06-06T03:23:43.548Z"
   },
   {
    "duration": 32,
    "start_time": "2024-06-06T03:25:09.336Z"
   },
   {
    "duration": 1720,
    "start_time": "2024-06-06T03:29:22.506Z"
   },
   {
    "duration": 730,
    "start_time": "2024-06-06T03:29:24.389Z"
   },
   {
    "duration": 17,
    "start_time": "2024-06-06T03:29:25.123Z"
   },
   {
    "duration": 17,
    "start_time": "2024-06-06T03:29:25.729Z"
   },
   {
    "duration": 150,
    "start_time": "2024-06-06T03:29:26.286Z"
   },
   {
    "duration": 109,
    "start_time": "2024-06-06T03:29:26.508Z"
   },
   {
    "duration": 412,
    "start_time": "2024-06-06T03:29:26.731Z"
   },
   {
    "duration": 855,
    "start_time": "2024-06-06T03:29:27.151Z"
   },
   {
    "duration": 153,
    "start_time": "2024-06-06T03:29:28.011Z"
   },
   {
    "duration": 295,
    "start_time": "2024-06-06T03:29:28.167Z"
   },
   {
    "duration": 1936,
    "start_time": "2024-06-06T03:29:28.466Z"
   },
   {
    "duration": 405,
    "start_time": "2024-06-06T03:29:30.406Z"
   },
   {
    "duration": 558,
    "start_time": "2024-06-06T03:29:30.814Z"
   },
   {
    "duration": 15752,
    "start_time": "2024-06-06T03:29:31.377Z"
   },
   {
    "duration": 48,
    "start_time": "2024-06-06T03:29:47.132Z"
   },
   {
    "duration": 8,
    "start_time": "2024-06-06T03:29:47.185Z"
   },
   {
    "duration": 10,
    "start_time": "2024-06-06T03:29:47.196Z"
   },
   {
    "duration": 5,
    "start_time": "2024-06-06T03:29:47.210Z"
   },
   {
    "duration": 114,
    "start_time": "2024-06-06T03:29:47.220Z"
   },
   {
    "duration": 13004,
    "start_time": "2024-06-06T03:29:47.340Z"
   },
   {
    "duration": 90593,
    "start_time": "2024-06-06T03:30:00.348Z"
   },
   {
    "duration": 46996,
    "start_time": "2024-06-06T03:31:30.943Z"
   },
   {
    "duration": 38297,
    "start_time": "2024-06-06T03:32:17.946Z"
   },
   {
    "duration": 4,
    "start_time": "2024-06-06T03:32:56.246Z"
   },
   {
    "duration": 8,
    "start_time": "2024-06-06T03:32:56.256Z"
   },
   {
    "duration": 460002,
    "start_time": "2024-06-06T03:32:56.268Z"
   },
   {
    "duration": 200673,
    "start_time": "2024-06-06T03:40:36.274Z"
   },
   {
    "duration": 345276,
    "start_time": "2024-06-06T03:43:56.962Z"
   },
   {
    "duration": 201486,
    "start_time": "2024-06-06T03:49:42.241Z"
   },
   {
    "duration": 13,
    "start_time": "2024-06-06T03:53:03.730Z"
   },
   {
    "duration": 16,
    "start_time": "2024-06-06T03:53:03.748Z"
   }
  ],
  "kernelspec": {
   "display_name": "Python 3 (ipykernel)",
   "language": "python",
   "name": "python3"
  },
  "language_info": {
   "codemirror_mode": {
    "name": "ipython",
    "version": 3
   },
   "file_extension": ".py",
   "mimetype": "text/x-python",
   "name": "python",
   "nbconvert_exporter": "python",
   "pygments_lexer": "ipython3",
   "version": "3.9.19"
  },
  "toc": {
   "base_numbering": 1,
   "nav_menu": {},
   "number_sections": true,
   "sideBar": true,
   "skip_h1_title": true,
   "title_cell": "Table of Contents",
   "title_sidebar": "Contents",
   "toc_cell": false,
   "toc_position": {},
   "toc_section_display": true,
   "toc_window_display": false
  }
 },
 "nbformat": 4,
 "nbformat_minor": 2
}
